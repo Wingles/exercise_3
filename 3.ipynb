{
 "cells": [
  {
   "cell_type": "code",
   "execution_count": 2,
   "metadata": {},
   "outputs": [],
   "source": [
    "import urllib.request\n",
    "import string\n",
    "url = 'https://www.gutenberg.org/files/2701/2701-0.txt'\n",
    "response = urllib.request.urlopen(url)\n",
    "data = response.read()\n",
    "text = data.decode('utf-8')"
   ]
  },
  {
   "cell_type": "code",
   "execution_count": 7,
   "metadata": {},
   "outputs": [
    {
     "name": "stderr",
     "output_type": "stream",
     "text": [
      "[nltk_data] Downloading package punkt to\n",
      "[nltk_data]     C:\\Users\\12552\\AppData\\Roaming\\nltk_data...\n",
      "[nltk_data]   Package punkt is already up-to-date!\n"
     ]
    }
   ],
   "source": [
    "import nltk\n",
    "from nltk.tokenize import word_tokenize\n",
    "import re\n",
    "nltk.download('punkt') \n",
    "tokens = word_tokenize(text)\n",
    "# drop the punctuation\n",
    "# when try to use word.lower(), the pog_tag will not mistakely take NNP as VB\n",
    "tokens = [word for word in tokens if word not in string.punctuation]\n",
    "tokens = [token for token in tokens if not re.match(r\"[“’”]|s''\\d\", token)]\n"
   ]
  },
  {
   "cell_type": "code",
   "execution_count": 8,
   "metadata": {},
   "outputs": [
    {
     "name": "stderr",
     "output_type": "stream",
     "text": [
      "[nltk_data] Downloading package stopwords to\n",
      "[nltk_data]     C:\\Users\\12552\\AppData\\Roaming\\nltk_data...\n",
      "[nltk_data]   Package stopwords is already up-to-date!\n"
     ]
    }
   ],
   "source": [
    "from nltk.corpus import stopwords\n",
    "nltk.download('stopwords')\n",
    "stop_words = set(stopwords.words('english'))\n",
    "filtered_tokens = [w for w in tokens if not w in stop_words]\n",
    "filtered_tokens = [w for w in filtered_tokens if w.lower() not in stop_words]"
   ]
  },
  {
   "cell_type": "code",
   "execution_count": 9,
   "metadata": {},
   "outputs": [
    {
     "name": "stderr",
     "output_type": "stream",
     "text": [
      "[nltk_data] Downloading package averaged_perceptron_tagger to\n",
      "[nltk_data]     C:\\Users\\12552\\AppData\\Roaming\\nltk_data...\n",
      "[nltk_data]   Package averaged_perceptron_tagger is already up-to-\n",
      "[nltk_data]       date!\n"
     ]
    },
    {
     "name": "stdout",
     "output_type": "stream",
     "text": [
      "NN: 27990\n",
      "JJ: 21031\n",
      "NNP: 11272\n",
      "NNS: 10278\n",
      "RB: 8334\n"
     ]
    }
   ],
   "source": [
    "from nltk import pos_tag\n",
    "from collections import Counter\n",
    "nltk.download('averaged_perceptron_tagger')\n",
    "pos_tagged_tokens = pos_tag(filtered_tokens)\n",
    "pos_tags = [tag for _, tag in pos_tagged_tokens]\n",
    "pos_freq = Counter(pos_tags)\n",
    "top_five_pos = pos_freq.most_common(5)\n",
    "for pos, freq in top_five_pos:\n",
    "    print(f\"{pos}: {freq}\")\n",
    "\n",
    "\n"
   ]
  },
  {
   "cell_type": "code",
   "execution_count": 10,
   "metadata": {},
   "outputs": [
    {
     "name": "stdout",
     "output_type": "stream",
     "text": [
      "[(('one', 'CD'), 868), (('like', 'IN'), 546), (('upon', 'IN'), 505), (('Ahab', 'NNP'), 491), (('man', 'NN'), 465), (('old', 'JJ'), 429), (('would', 'MD'), 418), (('whale', 'JJ'), 392), (('whale', 'NN'), 339), (('sea', 'NN'), 330), (('time', 'NN'), 313), (('though', 'IN'), 312), (('ship', 'NN'), 302), (('said', 'VBD'), 297), (('still', 'RB'), 295), (('Whale', 'NNP'), 293), (('must', 'MD'), 291), (('great', 'JJ'), 291), (('yet', 'RB'), 290), (('two', 'CD'), 275)]\n",
      "['one', 'like', 'upon', 'Ahab', 'man', 'old', 'would', 'whale', 'whale', 'sea', 'time', 'though', 'ship', 'say', 'still', 'Whale', 'must', 'great', 'yet', 'two']\n"
     ]
    }
   ],
   "source": [
    "from nltk.stem import WordNetLemmatizer\n",
    "import string\n",
    "\n",
    "# Define a mapping of POS tags from pos_tag to WordNetLemmatizer\n",
    "pos_tag_mapping = {\n",
    "    'NNS': 'n',  # Noun, plural\n",
    "    'VBG': 'v',  # Verb, gerund or present participle\n",
    "    'NN': 'n',   # Noun, singular or mass\n",
    "    'VBD': 'v',  # Verb, past tense\n",
    "    'VBN': 'v',  # Verb, past participle\n",
    "    'JJ': 'a',   # Adjective\n",
    "    'VBZ': 'v',  # Verb, 3rd person singular present\n",
    "    'VBP': 'v',  # Verb, non-3rd person singular present\n",
    "    'RB': 'r',   # Adverb\n",
    "    'NNP': 'n',  # Proper noun, singular\n",
    "    'VB': 'v',   # Verb, base form\n",
    "    'IN': 'n',   # Preposition or subordinating conjunction\n",
    "    'PRP': 'n',  # Personal pronoun\n",
    "    'PRP$': 'n', # Possessive pronoun\n",
    "    'JJR': 'a',  # Adjective, comparative\n",
    "    'JJS': 'a',  # Adjective, superlative\n",
    "    'CD': 'n',   # Cardinal number\n",
    "    'MD': 'v',   # Modal\n",
    "    'VBG': 'v',  # Verb, gerund or present participle\n",
    "    'RBR': 'r',  # Adverb, comparative\n",
    "    'RBS': 'r',  # Adverb, superlative\n",
    "    'WP': 'n',   # Wh-pronoun\n",
    "    'WRB': 'r',  # Wh-adverb\n",
    "}\n",
    "\n",
    "# Assuming you have already defined 'pos_tagged_tokens' list\n",
    "\n",
    "# Extract the top 20 tokens\n",
    "top_20_tokens = Counter(pos_tagged_tokens).most_common(20)\n",
    "\n",
    "# Create a lemmatizer instance\n",
    "lemmatizer = WordNetLemmatizer()\n",
    "\n",
    "# Lemmatize the top 20 tokens and remove punctuation\n",
    "lemmatized_tokens = [lemmatizer.lemmatize(token, pos=pos_tag_mapping[pos]) for (token, pos), count in top_20_tokens if pos in pos_tag_mapping and not all(char in string.punctuation for char in token)]\n",
    "\n",
    "# Print the lemmatized tokens\n",
    "print(top_20_tokens)\n",
    "print(lemmatized_tokens)\n"
   ]
  },
  {
   "cell_type": "code",
   "execution_count": 11,
   "metadata": {},
   "outputs": [
    {
     "data": {
      "image/png": "[encoded data removed]",
      "text/plain": [
       "<Figure size 640x480 with 1 Axes>"
      ]
     },
     "metadata": {},
     "output_type": "display_data"
    }
   ],
   "source": [
    "import matplotlib.pyplot as plt\n",
    "plt.bar(pos_freq.keys(), pos_freq.values())\n",
    "plt.show()\n",
    "\n",
    "\n"
   ]
  },
  {
   "cell_type": "code",
   "execution_count": 13,
   "metadata": {},
   "outputs": [
    {
     "name": "stderr",
     "output_type": "stream",
     "text": [
      "[nltk_data] Downloading package vader_lexicon to\n",
      "[nltk_data]     C:\\Users\\12552\\AppData\\Roaming\\nltk_data...\n",
      "[nltk_data]   Package vader_lexicon is already up-to-date!\n"
     ]
    },
    {
     "name": "stdout",
     "output_type": "stream",
     "text": [
      "Average Sentiment Score: 4.3775187888029625e-05\n",
      "Overall Text Sentiment: negative\n"
     ]
    }
   ],
   "source": [
    "# use nltk to perform semantic analysis on the dataset\n",
    "from nltk.sentiment.vader import SentimentIntensityAnalyzer\n",
    "from nltk.tokenize import sent_tokenize\n",
    "nltk.download('vader_lexicon')\n",
    "sia = SentimentIntensityAnalyzer()\n",
    "sentence = sent_tokenize(text)\n",
    "for i in sentence:\n",
    "    i = word_tokenize(i)\n",
    "    tokens = [word for word in i if word not in string.punctuation]\n",
    "    tokens = [token for token in i if not re.match(r\"[“’”]|s''\\d\", token)]\n",
    "    filtered_tokens = [w for w in tokens if not w in stop_words]\n",
    "    filtered_tokens = [w for w in filtered_tokens if w.lower() not in stop_words]\n",
    "    i = ' '.join(filtered_tokens)\n",
    "    score = 0\n",
    "    score += sia.polarity_scores(i)['compound']\n",
    "avg_score = score / len(sentence)\n",
    "if avg_score > 0.05:\n",
    "    overall_sentiment = 'positive'\n",
    "else:\n",
    "    overall_sentiment = 'negative'\n",
    "print(\"Average Sentiment Score:\", avg_score)\n",
    "print(\"Overall Text Sentiment:\", overall_sentiment)\n",
    "\n",
    "     "
   ]
  },
  {
   "cell_type": "code",
   "execution_count": null,
   "metadata": {},
   "outputs": [],
   "source": []
  }
 ],
 "metadata": {
  "kernelspec": {
   "display_name": "yd",
   "language": "python",
   "name": "python3"
  },
  "language_info": {
   "codemirror_mode": {
    "name": "ipython",
    "version": 3
   },
   "file_extension": ".py",
   "mimetype": "text/x-python",
   "name": "python",
   "nbconvert_exporter": "python",
   "pygments_lexer": "ipython3",
   "version": "3.9.17"
  },
  "orig_nbformat": 4
 },
 "nbformat": 4,
 "nbformat_minor": 2
}
